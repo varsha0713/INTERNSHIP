{
 "cells": [
  {
   "cell_type": "code",
   "execution_count": 3,
   "id": "77491cac-527f-4ed1-95c1-fa06bb3b3796",
   "metadata": {},
   "outputs": [
    {
     "name": "stdout",
     "output_type": "stream",
     "text": [
      "0         normal\n",
      "1         normal\n",
      "2         normal\n",
      "3         normal\n",
      "4         normal\n",
      "           ...  \n",
      "494015    normal\n",
      "494016    normal\n",
      "494017    normal\n",
      "494018    normal\n",
      "494019    normal\n",
      "Name: label, Length: 494020, dtype: object\n"
     ]
    }
   ],
   "source": [
    "import pandas as pd\n",
    "\n",
    "# Load your dataset into a DataFrame (if not already loaded)\n",
    "data = pd.read_csv(\"C:\\\\Users\\\\Varsha A\\\\Downloads\\\\kddcup99_csv.csv\")  # Replace 'your_dataset.csv' with your dataset file's path\n",
    "\n",
    "# Extract the target variable\n",
    "target_variable = data['label']\n",
    "print(target_variable)\n",
    "\n"
   ]
  },
  {
   "cell_type": "code",
   "execution_count": null,
   "id": "d02f1c8f-25e6-4bdc-a377-8128eeec0863",
   "metadata": {},
   "outputs": [],
   "source": []
  }
 ],
 "metadata": {
  "kernelspec": {
   "display_name": "Python 3 (ipykernel)",
   "language": "python",
   "name": "python3"
  },
  "language_info": {
   "codemirror_mode": {
    "name": "ipython",
    "version": 3
   },
   "file_extension": ".py",
   "mimetype": "text/x-python",
   "name": "python",
   "nbconvert_exporter": "python",
   "pygments_lexer": "ipython3",
   "version": "3.12.0"
  }
 },
 "nbformat": 4,
 "nbformat_minor": 5
}
