{
 "cells": [
  {
   "cell_type": "code",
   "execution_count": 20,
   "id": "9c20ca70-a727-4895-abb0-365b30a6cfc2",
   "metadata": {},
   "outputs": [
    {
     "name": "stdout",
     "output_type": "stream",
     "text": [
      "1.Dependent Variable (y):\n",
      "0    normal\n",
      "1    normal\n",
      "2    normal\n",
      "3    normal\n",
      "4    normal\n",
      "Name: label, dtype: object\n",
      "\n",
      "2.Independent Variables (X):\n",
      "   duration  src_bytes  dst_bytes  land  wrong_fragment  urgent  hot  \\\n",
      "0         0        181       5450     0               0       0    0   \n",
      "1         0        239        486     0               0       0    0   \n",
      "2         0        235       1337     0               0       0    0   \n",
      "3         0        219       1337     0               0       0    0   \n",
      "4         0        217       2032     0               0       0    0   \n",
      "\n",
      "   num_failed_logins  logged_in  lnum_compromised  ...  label_phf  label_pod  \\\n",
      "0                  0          1                 0  ...      False      False   \n",
      "1                  0          1                 0  ...      False      False   \n",
      "2                  0          1                 0  ...      False      False   \n",
      "3                  0          1                 0  ...      False      False   \n",
      "4                  0          1                 0  ...      False      False   \n",
      "\n",
      "   label_portsweep  label_rootkit  label_satan  label_smurf  label_spy  \\\n",
      "0            False          False        False        False      False   \n",
      "1            False          False        False        False      False   \n",
      "2            False          False        False        False      False   \n",
      "3            False          False        False        False      False   \n",
      "4            False          False        False        False      False   \n",
      "\n",
      "   label_teardrop  label_warezclient  label_warezmaster  \n",
      "0           False              False              False  \n",
      "1           False              False              False  \n",
      "2           False              False              False  \n",
      "3           False              False              False  \n",
      "4           False              False              False  \n",
      "\n",
      "[5 rows x 75 columns]\n",
      "\n",
      "3.dropping of attribute\n",
      "   duration  src_bytes  dst_bytes  wrong_fragment  urgent  hot  \\\n",
      "0         0        181       5450               0       0    0   \n",
      "1         0        239        486               0       0    0   \n",
      "2         0        235       1337               0       0    0   \n",
      "3         0        219       1337               0       0    0   \n",
      "4         0        217       2032               0       0    0   \n",
      "\n",
      "   num_failed_logins  logged_in  lnum_compromised  lroot_shell  ...  \\\n",
      "0                  0          1                 0            0  ...   \n",
      "1                  0          1                 0            0  ...   \n",
      "2                  0          1                 0            0  ...   \n",
      "3                  0          1                 0            0  ...   \n",
      "4                  0          1                 0            0  ...   \n",
      "\n",
      "   label_phf  label_pod  label_portsweep  label_rootkit  label_satan  \\\n",
      "0      False      False            False          False        False   \n",
      "1      False      False            False          False        False   \n",
      "2      False      False            False          False        False   \n",
      "3      False      False            False          False        False   \n",
      "4      False      False            False          False        False   \n",
      "\n",
      "   label_smurf  label_spy  label_teardrop  label_warezclient  \\\n",
      "0        False      False           False              False   \n",
      "1        False      False           False              False   \n",
      "2        False      False           False              False   \n",
      "3        False      False           False              False   \n",
      "4        False      False           False              False   \n",
      "\n",
      "   label_warezmaster  \n",
      "0              False  \n",
      "1              False  \n",
      "2              False  \n",
      "3              False  \n",
      "4              False  \n",
      "\n",
      "[5 rows x 74 columns]\n",
      "\n",
      "4.Train and Test Split:\n",
      "X_train shape: (345814, 75)\n",
      "X_test shape: (148206, 75)\n",
      "y_train shape: (345814,)\n",
      "y_test shape: (148206,)\n"
     ]
    }
   ],
   "source": [
    "import pandas as pd\n",
    "df = pd.read_csv(\"C:\\\\Users\\\\Varsha A\\\\Downloads\\\\kddcup99_csv.csv\")\n",
    "\n",
    "# Step 2: Split dependent and independent variables and create dummies (assuming 'target' is the dependent variable)\n",
    "y = df['label']\n",
    "X = df.drop(columns=['service']).copy()\n",
    "\n",
    "# Creating dummies for categorical variables\n",
    "X = pd.get_dummies(X)\n",
    "\n",
    "# Step 3: Drop the attributes (you can replace 'columns_to_drop' with your specific attribute names)\n",
    "columns_to_drop = []\n",
    "X = X.drop(columns=columns_to_drop)\n",
    "\n",
    "#dropping of attribute\n",
    "columns_to_drop = ['land']\n",
    "d = X.drop(columns=columns_to_drop)\n",
    "\n",
    "# Calculate the index to split the data for a 70-30 train-test split\n",
    "split_index = int(0.7 * len(df))  # 70% train, 30% test\n",
    "\n",
    "\n",
    "# Split the data into train and test\n",
    "X_train, X_test = X.iloc[:split_index], X.iloc[split_index:]\n",
    "y_train, y_test = y.iloc[:split_index], y.iloc[split_index:]\n",
    "\n",
    "# Print the results\n",
    "print(\"1.Dependent Variable (y):\")\n",
    "print(y.head())\n",
    "print(\"\\n2.Independent Variables (X):\")\n",
    "print(X.head())\n",
    "print(\"\\n3.dropping of attribute\")\n",
    "print(d.head())\n",
    "print(\"\\n4.Train and Test Split:\")\n",
    "print(\"X_train shape:\", X_train.shape)\n",
    "print(\"X_test shape:\", X_test.shape)\n",
    "print(\"y_train shape:\", y_train.shape)\n",
    "print(\"y_test shape:\", y_test.shape)"
   ]
  },
  {
   "cell_type": "code",
   "execution_count": 16,
   "id": "9a47c8fa-cd7a-455d-8ddb-18fe4b94f49d",
   "metadata": {},
   "outputs": [
    {
     "name": "stdout",
     "output_type": "stream",
     "text": [
      "0         http\n",
      "1         http\n",
      "2         http\n",
      "3         http\n",
      "4         http\n",
      "          ... \n",
      "494015    http\n",
      "494016    http\n",
      "494017    http\n",
      "494018    http\n",
      "494019    http\n",
      "Name: service, Length: 494020, dtype: object\n"
     ]
    }
   ],
   "source": [
    "# Extract the target variable\n",
    "target_variable = data['service']\n",
    "print(target_variable)"
   ]
  },
  {
   "cell_type": "code",
   "execution_count": 17,
   "id": "76cd8ffc-c242-4c7b-b37c-32c2afe28c29",
   "metadata": {},
   "outputs": [
    {
     "name": "stderr",
     "output_type": "stream",
     "text": [
      "C:\\Users\\Varsha A\\AppData\\Local\\Programs\\Python\\Python312\\Lib\\site-packages\\sklearn\\linear_model\\_logistic.py:460: ConvergenceWarning: lbfgs failed to converge (status=1):\n",
      "STOP: TOTAL NO. of ITERATIONS REACHED LIMIT.\n",
      "\n",
      "Increase the number of iterations (max_iter) or scale the data as shown in:\n",
      "    https://scikit-learn.org/stable/modules/preprocessing.html\n",
      "Please also refer to the documentation for alternative solver options:\n",
      "    https://scikit-learn.org/stable/modules/linear_model.html#logistic-regression\n",
      "  n_iter_i = _check_optimize_result(\n"
     ]
    },
    {
     "data": {
      "text/html": [
       "<style>#sk-container-id-1 {color: black;}#sk-container-id-1 pre{padding: 0;}#sk-container-id-1 div.sk-toggleable {background-color: white;}#sk-container-id-1 label.sk-toggleable__label {cursor: pointer;display: block;width: 100%;margin-bottom: 0;padding: 0.3em;box-sizing: border-box;text-align: center;}#sk-container-id-1 label.sk-toggleable__label-arrow:before {content: \"▸\";float: left;margin-right: 0.25em;color: #696969;}#sk-container-id-1 label.sk-toggleable__label-arrow:hover:before {color: black;}#sk-container-id-1 div.sk-estimator:hover label.sk-toggleable__label-arrow:before {color: black;}#sk-container-id-1 div.sk-toggleable__content {max-height: 0;max-width: 0;overflow: hidden;text-align: left;background-color: #f0f8ff;}#sk-container-id-1 div.sk-toggleable__content pre {margin: 0.2em;color: black;border-radius: 0.25em;background-color: #f0f8ff;}#sk-container-id-1 input.sk-toggleable__control:checked~div.sk-toggleable__content {max-height: 200px;max-width: 100%;overflow: auto;}#sk-container-id-1 input.sk-toggleable__control:checked~label.sk-toggleable__label-arrow:before {content: \"▾\";}#sk-container-id-1 div.sk-estimator input.sk-toggleable__control:checked~label.sk-toggleable__label {background-color: #d4ebff;}#sk-container-id-1 div.sk-label input.sk-toggleable__control:checked~label.sk-toggleable__label {background-color: #d4ebff;}#sk-container-id-1 input.sk-hidden--visually {border: 0;clip: rect(1px 1px 1px 1px);clip: rect(1px, 1px, 1px, 1px);height: 1px;margin: -1px;overflow: hidden;padding: 0;position: absolute;width: 1px;}#sk-container-id-1 div.sk-estimator {font-family: monospace;background-color: #f0f8ff;border: 1px dotted black;border-radius: 0.25em;box-sizing: border-box;margin-bottom: 0.5em;}#sk-container-id-1 div.sk-estimator:hover {background-color: #d4ebff;}#sk-container-id-1 div.sk-parallel-item::after {content: \"\";width: 100%;border-bottom: 1px solid gray;flex-grow: 1;}#sk-container-id-1 div.sk-label:hover label.sk-toggleable__label {background-color: #d4ebff;}#sk-container-id-1 div.sk-serial::before {content: \"\";position: absolute;border-left: 1px solid gray;box-sizing: border-box;top: 0;bottom: 0;left: 50%;z-index: 0;}#sk-container-id-1 div.sk-serial {display: flex;flex-direction: column;align-items: center;background-color: white;padding-right: 0.2em;padding-left: 0.2em;position: relative;}#sk-container-id-1 div.sk-item {position: relative;z-index: 1;}#sk-container-id-1 div.sk-parallel {display: flex;align-items: stretch;justify-content: center;background-color: white;position: relative;}#sk-container-id-1 div.sk-item::before, #sk-container-id-1 div.sk-parallel-item::before {content: \"\";position: absolute;border-left: 1px solid gray;box-sizing: border-box;top: 0;bottom: 0;left: 50%;z-index: -1;}#sk-container-id-1 div.sk-parallel-item {display: flex;flex-direction: column;z-index: 1;position: relative;background-color: white;}#sk-container-id-1 div.sk-parallel-item:first-child::after {align-self: flex-end;width: 50%;}#sk-container-id-1 div.sk-parallel-item:last-child::after {align-self: flex-start;width: 50%;}#sk-container-id-1 div.sk-parallel-item:only-child::after {width: 0;}#sk-container-id-1 div.sk-dashed-wrapped {border: 1px dashed gray;margin: 0 0.4em 0.5em 0.4em;box-sizing: border-box;padding-bottom: 0.4em;background-color: white;}#sk-container-id-1 div.sk-label label {font-family: monospace;font-weight: bold;display: inline-block;line-height: 1.2em;}#sk-container-id-1 div.sk-label-container {text-align: center;}#sk-container-id-1 div.sk-container {/* jupyter's `normalize.less` sets `[hidden] { display: none; }` but bootstrap.min.css set `[hidden] { display: none !important; }` so we also need the `!important` here to be able to override the default hidden behavior on the sphinx rendered scikit-learn.org. See: https://github.com/scikit-learn/scikit-learn/issues/21755 */display: inline-block !important;position: relative;}#sk-container-id-1 div.sk-text-repr-fallback {display: none;}</style><div id=\"sk-container-id-1\" class=\"sk-top-container\"><div class=\"sk-text-repr-fallback\"><pre>LogisticRegression()</pre><b>In a Jupyter environment, please rerun this cell to show the HTML representation or trust the notebook. <br />On GitHub, the HTML representation is unable to render, please try loading this page with nbviewer.org.</b></div><div class=\"sk-container\" hidden><div class=\"sk-item\"><div class=\"sk-estimator sk-toggleable\"><input class=\"sk-toggleable__control sk-hidden--visually\" id=\"sk-estimator-id-1\" type=\"checkbox\" checked><label for=\"sk-estimator-id-1\" class=\"sk-toggleable__label sk-toggleable__label-arrow\">LogisticRegression</label><div class=\"sk-toggleable__content\"><pre>LogisticRegression()</pre></div></div></div></div></div>"
      ],
      "text/plain": [
       "LogisticRegression()"
      ]
     },
     "execution_count": 17,
     "metadata": {},
     "output_type": "execute_result"
    }
   ],
   "source": [
    "from sklearn.linear_model import LogisticRegression\n",
    "logreg = LogisticRegression()\n",
    "logreg.fit(X_train, y_train)  # Use X_train and y_train, not x_train and y_train"
   ]
  },
  {
   "cell_type": "code",
   "execution_count": 18,
   "id": "da4bff45-202e-45ff-8d76-d8dcfdaee5aa",
   "metadata": {},
   "outputs": [
    {
     "data": {
      "text/plain": [
       "array(['normal', 'normal', 'normal', ..., 'smurf', 'smurf', 'smurf'],\n",
       "      dtype=object)"
      ]
     },
     "execution_count": 18,
     "metadata": {},
     "output_type": "execute_result"
    }
   ],
   "source": [
    "pred=logreg.predict(X_train)\n",
    "pred"
   ]
  },
  {
   "cell_type": "code",
   "execution_count": 19,
   "id": "1c2e28b9-6e18-4985-8313-05a0a7e88e93",
   "metadata": {},
   "outputs": [
    {
     "data": {
      "text/plain": [
       "0.9600299583012833"
      ]
     },
     "execution_count": 19,
     "metadata": {},
     "output_type": "execute_result"
    }
   ],
   "source": [
    "from sklearn.metrics import accuracy_score\n",
    "accuracy_score(y_train,pred)"
   ]
  },
  {
   "cell_type": "code",
   "execution_count": 2,
   "id": "14f29ae7-81d2-4950-a757-ebfa2035b376",
   "metadata": {},
   "outputs": [
    {
     "ename": "NameError",
     "evalue": "name 'y_test' is not defined",
     "output_type": "error",
     "traceback": [
      "\u001b[1;31m---------------------------------------------------------------------------\u001b[0m",
      "\u001b[1;31mNameError\u001b[0m                                 Traceback (most recent call last)",
      "Cell \u001b[1;32mIn[2], line 2\u001b[0m\n\u001b[0;32m      1\u001b[0m \u001b[38;5;28;01mfrom\u001b[39;00m \u001b[38;5;21;01msklearn\u001b[39;00m\u001b[38;5;21;01m.\u001b[39;00m\u001b[38;5;21;01mmetrics\u001b[39;00m \u001b[38;5;28;01mimport\u001b[39;00m roc_curve, roc_auc_score\n\u001b[1;32m----> 2\u001b[0m fpr, tpr, thresholds \u001b[38;5;241m=\u001b[39m roc_curve(\u001b[43my_test\u001b[49m, y_scores)  \u001b[38;5;66;03m# y_scores are the predicted probabilities\u001b[39;00m\n\u001b[0;32m      3\u001b[0m auc \u001b[38;5;241m=\u001b[39m roc_auc_score(y_test, y_scores)\n",
      "\u001b[1;31mNameError\u001b[0m: name 'y_test' is not defined"
     ]
    }
   ],
   "source": [
    "from sklearn.metrics import roc_curve, roc_auc_score\n",
    "fpr, tpr, thresholds = roc_curve(y_test, y_scores)  # y_scores are the predicted probabilities\n",
    "auc = roc_auc_score(y_test, y_scores)\n"
   ]
  },
  {
   "cell_type": "code",
   "execution_count": 1,
   "id": "b12cf0fb-3813-4f57-a69c-60483e0b7c63",
   "metadata": {},
   "outputs": [
    {
     "ename": "NameError",
     "evalue": "name 'y_test' is not defined",
     "output_type": "error",
     "traceback": [
      "\u001b[1;31m---------------------------------------------------------------------------\u001b[0m",
      "\u001b[1;31mNameError\u001b[0m                                 Traceback (most recent call last)",
      "Cell \u001b[1;32mIn[1], line 2\u001b[0m\n\u001b[0;32m      1\u001b[0m \u001b[38;5;28;01mfrom\u001b[39;00m \u001b[38;5;21;01msklearn\u001b[39;00m\u001b[38;5;21;01m.\u001b[39;00m\u001b[38;5;21;01mmetrics\u001b[39;00m \u001b[38;5;28;01mimport\u001b[39;00m confusion_matrix\n\u001b[1;32m----> 2\u001b[0m cm \u001b[38;5;241m=\u001b[39m confusion_matrix(\u001b[43my_test\u001b[49m, y_pred)\n",
      "\u001b[1;31mNameError\u001b[0m: name 'y_test' is not defined"
     ]
    }
   ],
   "source": [
    "from sklearn.metrics import confusion_matrix\n",
    "cm = confusion_matrix(y_test, y_pred)\n"
   ]
  },
  {
   "cell_type": "code",
   "execution_count": null,
   "id": "fb42e9eb-1b42-4319-8e50-b6936144fe38",
   "metadata": {},
   "outputs": [],
   "source": []
  }
 ],
 "metadata": {
  "kernelspec": {
   "display_name": "Python 3 (ipykernel)",
   "language": "python",
   "name": "python3"
  },
  "language_info": {
   "codemirror_mode": {
    "name": "ipython",
    "version": 3
   },
   "file_extension": ".py",
   "mimetype": "text/x-python",
   "name": "python",
   "nbconvert_exporter": "python",
   "pygments_lexer": "ipython3",
   "version": "3.12.0"
  }
 },
 "nbformat": 4,
 "nbformat_minor": 5
}
